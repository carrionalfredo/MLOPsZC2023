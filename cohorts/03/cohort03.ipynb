{
 "cells": [
  {
   "cell_type": "markdown",
   "id": "e879895a",
   "metadata": {},
   "source": [
    "@task(retries=3, retry_delay_seconds=2, name=\"Read taxi data\")"
   ]
  },
  {
   "cell_type": "markdown",
   "id": "156129c6",
   "metadata": {},
   "source": [
    "prefect project init"
   ]
  },
  {
   "cell_type": "markdown",
   "id": "d80234e2",
   "metadata": {},
   "source": [
    "prefect deploy -n Cohort03q02 -p Corohort03_WP orchestrate.py:main_flow"
   ]
  },
  {
   "cell_type": "markdown",
   "id": "70416092",
   "metadata": {},
   "source": [
    "prefect deployment build --name cohort03q2 --cron \"0 9 3 * *\" orchestrate.py:main_flow"
   ]
  },
  {
   "cell_type": "markdown",
   "id": "bb80183b",
   "metadata": {},
   "source": []
  }
 ],
 "metadata": {
  "kernelspec": {
   "display_name": "Python 3 (ipykernel)",
   "language": "python",
   "name": "python3"
  },
  "language_info": {
   "codemirror_mode": {
    "name": "ipython",
    "version": 3
   },
   "file_extension": ".py",
   "mimetype": "text/x-python",
   "name": "python",
   "nbconvert_exporter": "python",
   "pygments_lexer": "ipython3",
   "version": "3.9.16"
  },
  "varInspector": {
   "cols": {
    "lenName": 16,
    "lenType": 16,
    "lenVar": 40
   },
   "kernels_config": {
    "python": {
     "delete_cmd_postfix": "",
     "delete_cmd_prefix": "del ",
     "library": "var_list.py",
     "varRefreshCmd": "print(var_dic_list())"
    },
    "r": {
     "delete_cmd_postfix": ") ",
     "delete_cmd_prefix": "rm(",
     "library": "var_list.r",
     "varRefreshCmd": "cat(var_dic_list()) "
    }
   },
   "types_to_exclude": [
    "module",
    "function",
    "builtin_function_or_method",
    "instance",
    "_Feature"
   ],
   "window_display": false
  }
 },
 "nbformat": 4,
 "nbformat_minor": 5
}
