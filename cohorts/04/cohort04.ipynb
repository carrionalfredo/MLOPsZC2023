{
 "cells": [
  {
   "cell_type": "markdown",
   "id": "a80d7008",
   "metadata": {},
   "source": [
    "# Cohort 04 MLOPs-Zoomcap 2023"
   ]
  },
  {
   "cell_type": "code",
   "execution_count": 1,
   "id": "2f979dfb",
   "metadata": {},
   "outputs": [],
   "source": [
    "import pickle\n",
    "import pandas as pd"
   ]
  },
  {
   "cell_type": "markdown",
   "id": "f8ff8780",
   "metadata": {},
   "source": [
    "Load the \"model.bin\" pickel file"
   ]
  },
  {
   "cell_type": "code",
   "execution_count": 3,
   "id": "3281ce94",
   "metadata": {},
   "outputs": [
    {
     "name": "stderr",
     "output_type": "stream",
     "text": [
      "K:\\Anaconda3\\lib\\site-packages\\sklearn\\base.py:299: UserWarning: Trying to unpickle estimator DictVectorizer from version 1.2.2 when using version 1.2.1. This might lead to breaking code or invalid results. Use at your own risk. For more info please refer to:\n",
      "https://scikit-learn.org/stable/model_persistence.html#security-maintainability-limitations\n",
      "  warnings.warn(\n",
      "K:\\Anaconda3\\lib\\site-packages\\sklearn\\base.py:299: UserWarning: Trying to unpickle estimator LinearRegression from version 1.2.2 when using version 1.2.1. This might lead to breaking code or invalid results. Use at your own risk. For more info please refer to:\n",
      "https://scikit-learn.org/stable/model_persistence.html#security-maintainability-limitations\n",
      "  warnings.warn(\n"
     ]
    }
   ],
   "source": [
    "with open('model.bin', 'rb') as f_in:\n",
    "    dv, model = pickle.load(f_in)"
   ]
  },
  {
   "cell_type": "markdown",
   "id": "ab327206",
   "metadata": {},
   "source": [
    "Process the data"
   ]
  },
  {
   "cell_type": "code",
   "execution_count": 4,
   "id": "619ee3c2",
   "metadata": {},
   "outputs": [],
   "source": [
    "categorical = ['PULocationID', 'DOLocationID']\n",
    "\n",
    "def read_data(filename):\n",
    "    df = pd.read_parquet(filename)\n",
    "    \n",
    "    df['duration'] = df.tpep_dropoff_datetime - df.tpep_pickup_datetime\n",
    "    df['duration'] = df.duration.dt.total_seconds() / 60\n",
    "\n",
    "    df = df[(df.duration >= 1) & (df.duration <= 60)].copy()\n",
    "\n",
    "    df[categorical] = df[categorical].fillna(-1).astype('int').astype('str')\n",
    "    \n",
    "    return df"
   ]
  },
  {
   "cell_type": "markdown",
   "id": "f9487938",
   "metadata": {},
   "source": [
    "Run this notebook for the February 2022 data."
   ]
  },
  {
   "cell_type": "code",
   "execution_count": 27,
   "id": "e25be171",
   "metadata": {},
   "outputs": [],
   "source": [
    "year = '2022'\n",
    "month= '02'"
   ]
  },
  {
   "cell_type": "code",
   "execution_count": 28,
   "id": "ffbfc63d",
   "metadata": {},
   "outputs": [],
   "source": [
    "df = read_data(f'https://d37ci6vzurychx.cloudfront.net/trip-data/yellow_tripdata_{year}-{month}.parquet')"
   ]
  },
  {
   "cell_type": "code",
   "execution_count": 29,
   "id": "c9ca9dbc",
   "metadata": {},
   "outputs": [],
   "source": [
    "dicts = df[categorical].to_dict(orient='records')\n",
    "X_val = dv.transform(dicts)\n",
    "y_pred = model.predict(X_val)"
   ]
  },
  {
   "cell_type": "markdown",
   "id": "3e90c734",
   "metadata": {},
   "source": [
    "### Q01 Notebook\n",
    "**What's the standard deviation of the predicted duration for this dataset?**"
   ]
  },
  {
   "cell_type": "code",
   "execution_count": 30,
   "id": "3d773c03",
   "metadata": {},
   "outputs": [
    {
     "data": {
      "text/plain": [
       "5.281404481465004"
      ]
     },
     "execution_count": 30,
     "metadata": {},
     "output_type": "execute_result"
    }
   ],
   "source": [
    "df_results= pd.DataFrame()\n",
    "df_results['predicted_duration'] = y_pred\n",
    "df_results['predicted_duration'].std()"
   ]
  },
  {
   "cell_type": "markdown",
   "id": "80465c3d",
   "metadata": {},
   "source": [
    "Preparing the output"
   ]
  },
  {
   "cell_type": "code",
   "execution_count": 35,
   "id": "cf85b2f0",
   "metadata": {},
   "outputs": [],
   "source": [
    "df_results['ride_id'] = f'{int(year):04d}/{int(month):02d}_' + df.index.astype('str')"
   ]
  },
  {
   "cell_type": "code",
   "execution_count": 36,
   "id": "2320bef2",
   "metadata": {},
   "outputs": [],
   "source": [
    "output_file = f'{int(year):04d}-{int(month):02d}.parquet'\n",
    "\n",
    "df_results.to_parquet(\n",
    "    output_file,\n",
    "    engine='pyarrow',\n",
    "    compression=None,\n",
    "    index=False\n",
    ")"
   ]
  },
  {
   "cell_type": "markdown",
   "id": "e159c3f4",
   "metadata": {},
   "source": [
    "### Q02 Preparing the output\n",
    "**What's the size of the output file?**"
   ]
  },
  {
   "cell_type": "code",
   "execution_count": 46,
   "id": "f367c82e",
   "metadata": {},
   "outputs": [
    {
     "name": "stdout",
     "output_type": "stream",
     "text": [
      "58588.8017578125\n"
     ]
    }
   ],
   "source": [
    "import os\n",
    "\n",
    "print(os.stat(output_file).st_size/1024)"
   ]
  },
  {
   "cell_type": "markdown",
   "id": "9743013e",
   "metadata": {},
   "source": [
    "### Q03 Creating the scoring script\n",
    "**Which command you need to execute for that?**"
   ]
  },
  {
   "cell_type": "code",
   "execution_count": null,
   "id": "26795fca",
   "metadata": {},
   "outputs": [],
   "source": [
    "!jupyter nbconvert --to script cohort04.ipynb"
   ]
  }
 ],
 "metadata": {
  "kernelspec": {
   "display_name": "Python 3 (ipykernel)",
   "language": "python",
   "name": "python3"
  },
  "language_info": {
   "codemirror_mode": {
    "name": "ipython",
    "version": 3
   },
   "file_extension": ".py",
   "mimetype": "text/x-python",
   "name": "python",
   "nbconvert_exporter": "python",
   "pygments_lexer": "ipython3",
   "version": "3.9.16"
  },
  "varInspector": {
   "cols": {
    "lenName": 16,
    "lenType": 16,
    "lenVar": 40
   },
   "kernels_config": {
    "python": {
     "delete_cmd_postfix": "",
     "delete_cmd_prefix": "del ",
     "library": "var_list.py",
     "varRefreshCmd": "print(var_dic_list())"
    },
    "r": {
     "delete_cmd_postfix": ") ",
     "delete_cmd_prefix": "rm(",
     "library": "var_list.r",
     "varRefreshCmd": "cat(var_dic_list()) "
    }
   },
   "types_to_exclude": [
    "module",
    "function",
    "builtin_function_or_method",
    "instance",
    "_Feature"
   ],
   "window_display": false
  }
 },
 "nbformat": 4,
 "nbformat_minor": 5
}
