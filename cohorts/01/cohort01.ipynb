{
 "cells": [
  {
   "cell_type": "markdown",
   "id": "501d9ff9",
   "metadata": {},
   "source": [
    "# Cohort # 1 MLOPs-Zoomcap 2023"
   ]
  },
  {
   "cell_type": "markdown",
   "id": "3e8e5a17",
   "metadata": {},
   "source": [
    "Load of libraries and modules needed"
   ]
  },
  {
   "cell_type": "code",
   "execution_count": null,
   "id": "e0a5f98c",
   "metadata": {},
   "outputs": [],
   "source": [
    "import pandas as pd"
   ]
  },
  {
   "cell_type": "code",
   "execution_count": null,
   "id": "a5b875bf",
   "metadata": {},
   "outputs": [],
   "source": [
    "from sklearn.feature_extraction import DictVectorizer\n",
    "from sklearn.linear_model import LinearRegression\n",
    "\n",
    "from sklearn.metrics import mean_squared_error"
   ]
  },
  {
   "cell_type": "markdown",
   "id": "21f3c928",
   "metadata": {},
   "source": [
    "Download 2022 january and february .PARQUET files"
   ]
  },
  {
   "cell_type": "code",
   "execution_count": null,
   "id": "4b48ea9d",
   "metadata": {},
   "outputs": [],
   "source": [
    "!wget -N -v --no-check-certificate https://d37ci6vzurychx.cloudfront.net/trip-data/yellow_tripdata_2022-01.parquet\n",
    "!wget -N -v --no-check-certificate https://d37ci6vzurychx.cloudfront.net/trip-data/yellow_tripdata_2022-02.parquet"
   ]
  },
  {
   "cell_type": "markdown",
   "id": "a48f91bc",
   "metadata": {},
   "source": [
    "### Q1\n",
    "**Read the data for January. How many columns are there?**"
   ]
  },
  {
   "cell_type": "markdown",
   "id": "81292e37",
   "metadata": {},
   "source": [
    "Loading january data from .PARQUET file"
   ]
  },
  {
   "cell_type": "code",
   "execution_count": null,
   "id": "361fb385",
   "metadata": {},
   "outputs": [],
   "source": [
    "df_train = pd.read_parquet('yellow_tripdata_2022-01.parquet')\n",
    "df_train.head()"
   ]
  },
  {
   "cell_type": "code",
   "execution_count": null,
   "id": "6a0eba6f",
   "metadata": {},
   "outputs": [],
   "source": [
    "df_train.shape"
   ]
  },
  {
   "cell_type": "markdown",
   "id": "37340856",
   "metadata": {},
   "source": [
    "There are 19 columns in the dataframe"
   ]
  },
  {
   "cell_type": "markdown",
   "id": "6c9d3f86",
   "metadata": {},
   "source": [
    "Computing duration in minutes"
   ]
  },
  {
   "cell_type": "code",
   "execution_count": null,
   "id": "8049aff4",
   "metadata": {},
   "outputs": [],
   "source": [
    "# df_train['duration'] equals diference between pickup and dropoff in seconds\n",
    "df_train['duration'] = df_train.tpep_dropoff_datetime - df_train.tpep_pickup_datetime\n",
    "# Convert df_train['duration'] to minutes\n",
    "df_train.duration = df_train.duration.apply(lambda td: td.total_seconds()/60)"
   ]
  },
  {
   "cell_type": "markdown",
   "id": "d9a22da9",
   "metadata": {},
   "source": [
    "### Q2\n",
    "**What's the standard deviation of the trips duration in January?**"
   ]
  },
  {
   "cell_type": "code",
   "execution_count": null,
   "id": "3f718d31",
   "metadata": {},
   "outputs": [],
   "source": [
    "df_train['duration'].describe()"
   ]
  },
  {
   "cell_type": "markdown",
   "id": "1a76f3f6",
   "metadata": {},
   "source": [
    "The standar deviation is 46.445 minutes"
   ]
  },
  {
   "cell_type": "markdown",
   "id": "de9239c1",
   "metadata": {},
   "source": [
    "Dropping outliers"
   ]
  },
  {
   "cell_type": "code",
   "execution_count": null,
   "id": "f2cfb608",
   "metadata": {},
   "outputs": [],
   "source": [
    "# filter only duration over 1 minutes and less than 1 hour\n",
    "df_train = df_train[(df_train.duration >= 1) & (df_train.duration <= 60)]"
   ]
  },
  {
   "cell_type": "markdown",
   "id": "3513305c",
   "metadata": {},
   "source": [
    "### Q3\n",
    "**What fraction of the records left after you dropped the outliers?**"
   ]
  },
  {
   "cell_type": "code",
   "execution_count": null,
   "id": "6fd83738",
   "metadata": {},
   "outputs": [],
   "source": [
    "df_train.shape"
   ]
  },
  {
   "cell_type": "code",
   "execution_count": null,
   "id": "44b1b719",
   "metadata": {},
   "outputs": [],
   "source": [
    "round(2421440/2463931*100,2)"
   ]
  },
  {
   "cell_type": "markdown",
   "id": "60fdb0f7",
   "metadata": {},
   "source": [
    "One hot encoding"
   ]
  },
  {
   "cell_type": "code",
   "execution_count": null,
   "id": "498d92ce",
   "metadata": {},
   "outputs": [],
   "source": [
    "# select the features to train the model\n",
    "categorical = ['PULocationID', 'DOLocationID']\n",
    "numerical = ['trip_distance']\n",
    "# convert the datatype of categorical features from integer to string\n",
    "df_train[categorical] = df_train[categorical].astype(str)"
   ]
  },
  {
   "cell_type": "code",
   "execution_count": null,
   "id": "3030467c",
   "metadata": {},
   "outputs": [],
   "source": [
    "# convert the dataframe into a dictionary\n",
    "train_dicts = df_train[categorical + numerical].to_dict(orient='records')"
   ]
  },
  {
   "cell_type": "code",
   "execution_count": null,
   "id": "1846a3fb",
   "metadata": {},
   "outputs": [],
   "source": [
    "# create a DictVectorizer and transform the lists of feature-value mappings to vectors\n",
    "dv = DictVectorizer()\n",
    "X_train = dv.fit_transform(train_dicts)"
   ]
  },
  {
   "cell_type": "markdown",
   "id": "3fc9e3cb",
   "metadata": {},
   "source": [
    "### Q4\n",
    "**What's the dimensionality of this matrix (number of columns)?**"
   ]
  },
  {
   "cell_type": "code",
   "execution_count": null,
   "id": "e77ca427",
   "metadata": {},
   "outputs": [],
   "source": [
    "X_train.shape"
   ]
  },
  {
   "cell_type": "markdown",
   "id": "bc8a827f",
   "metadata": {},
   "source": [
    "Training a model"
   ]
  },
  {
   "cell_type": "code",
   "execution_count": null,
   "id": "15ac167f",
   "metadata": {},
   "outputs": [],
   "source": [
    "# select the target feature for train the model\n",
    "target = 'duration'\n",
    "y_train = df_train[target].values"
   ]
  },
  {
   "cell_type": "code",
   "execution_count": null,
   "id": "e4718984",
   "metadata": {},
   "outputs": [],
   "source": [
    "# define the model as LinearRegression class\n",
    "lr = LinearRegression()\n",
    "# train the model\n",
    "lr.fit(X_train, y_train)"
   ]
  },
  {
   "cell_type": "code",
   "execution_count": null,
   "id": "cca64963",
   "metadata": {},
   "outputs": [],
   "source": [
    "# test prediction with X_train data\n",
    "y_pred = lr.predict(X_train)"
   ]
  },
  {
   "cell_type": "markdown",
   "id": "c0bdddfd",
   "metadata": {},
   "source": [
    "### Q5\n",
    "**What's the RMSE on train?**"
   ]
  },
  {
   "cell_type": "code",
   "execution_count": null,
   "id": "85853fe1",
   "metadata": {},
   "outputs": [],
   "source": [
    "# mean squared value between predicted values and y_pred values\n",
    "round(mean_squared_error(y_train, y_pred, squared=False),2)"
   ]
  },
  {
   "cell_type": "markdown",
   "id": "c2176843",
   "metadata": {},
   "source": [
    "Evaluating the model"
   ]
  },
  {
   "cell_type": "code",
   "execution_count": null,
   "id": "e3efefbd",
   "metadata": {},
   "outputs": [],
   "source": [
    "df_val = pd.read_parquet('yellow_tripdata_2022-02.parquet')\n",
    "\n",
    "df_val['duration'] = df_val.tpep_dropoff_datetime - df_val.tpep_pickup_datetime\n",
    "df_val.duration = df_val.duration.apply(lambda td: td.total_seconds()/60)\n",
    "\n",
    "df_val = df_val[(df_val.duration >= 1) & (df_val.duration <= 60)]\n",
    "\n",
    "df_val[categorical] = df_val[categorical].astype(str)\n",
    "\n",
    "val_dicts = df_val[categorical + numerical].to_dict(orient='records')\n",
    "\n",
    "X_val = dv.transform(val_dicts)\n",
    "\n",
    "y_val = df_val[target].values"
   ]
  },
  {
   "cell_type": "code",
   "execution_count": null,
   "id": "27843fd5",
   "metadata": {},
   "outputs": [],
   "source": [
    "y_pred = lr.predict(X_val)"
   ]
  },
  {
   "cell_type": "markdown",
   "id": "156dbb95",
   "metadata": {},
   "source": [
    "### Q6\n",
    "**What's the RMSE on validation?**"
   ]
  },
  {
   "cell_type": "code",
   "execution_count": null,
   "id": "cdbf588a",
   "metadata": {},
   "outputs": [],
   "source": [
    "round(mean_squared_error(y_val, lr.predict(X_val), squared=False),3)"
   ]
  }
 ],
 "metadata": {
  "kernelspec": {
   "display_name": "Python 3 (ipykernel)",
   "language": "python",
   "name": "python3"
  },
  "language_info": {
   "codemirror_mode": {
    "name": "ipython",
    "version": 3
   },
   "file_extension": ".py",
   "mimetype": "text/x-python",
   "name": "python",
   "nbconvert_exporter": "python",
   "pygments_lexer": "ipython3",
   "version": "3.9.16"
  },
  "varInspector": {
   "cols": {
    "lenName": 16,
    "lenType": 16,
    "lenVar": 40
   },
   "kernels_config": {
    "python": {
     "delete_cmd_postfix": "",
     "delete_cmd_prefix": "del ",
     "library": "var_list.py",
     "varRefreshCmd": "print(var_dic_list())"
    },
    "r": {
     "delete_cmd_postfix": ") ",
     "delete_cmd_prefix": "rm(",
     "library": "var_list.r",
     "varRefreshCmd": "cat(var_dic_list()) "
    }
   },
   "types_to_exclude": [
    "module",
    "function",
    "builtin_function_or_method",
    "instance",
    "_Feature"
   ],
   "window_display": false
  }
 },
 "nbformat": 4,
 "nbformat_minor": 5
}
