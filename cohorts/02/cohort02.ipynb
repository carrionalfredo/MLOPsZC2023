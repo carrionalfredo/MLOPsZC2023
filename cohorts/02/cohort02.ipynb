{
 "cells": [
  {
   "cell_type": "markdown",
   "id": "3a415c58",
   "metadata": {},
   "source": [
    "# Cohort # 2 MLOPs-Zoomcap 2023"
   ]
  },
  {
   "cell_type": "markdown",
   "id": "7add7825",
   "metadata": {},
   "source": [
    "### Q1\n",
    "**What's the MLflow version that you have?**"
   ]
  },
  {
   "cell_type": "code",
   "execution_count": 1,
   "id": "b425107a",
   "metadata": {},
   "outputs": [
    {
     "name": "stdout",
     "output_type": "stream",
     "text": [
      "mlflow, version 2.3.2\n"
     ]
    }
   ],
   "source": [
    "!mlflow --version"
   ]
  },
  {
   "cell_type": "markdown",
   "id": "f1b98aa1",
   "metadata": {},
   "source": [
    "Load libraries and modules needed"
   ]
  },
  {
   "cell_type": "code",
   "execution_count": 2,
   "id": "7f3de47e",
   "metadata": {},
   "outputs": [],
   "source": [
    "import pandas as pd\n",
    "\n",
    "import wget\n",
    "\n",
    "import mlflow\n",
    "from mlflow import MlflowClient\n",
    "from mlflow.entities import ViewType"
   ]
  },
  {
   "cell_type": "markdown",
   "id": "308dbdaa",
   "metadata": {},
   "source": [
    "**Download and preprocess the data**"
   ]
  },
  {
   "cell_type": "markdown",
   "id": "04e235cd",
   "metadata": {},
   "source": [
    "Download the data for January, February and March 2022 in parquet format"
   ]
  },
  {
   "cell_type": "code",
   "execution_count": 3,
   "id": "95ba07e4",
   "metadata": {},
   "outputs": [
    {
     "name": "stderr",
     "output_type": "stream",
     "text": [
      "SYSTEM_WGETRC = c:/progra~1/wget/etc/wgetrc\n",
      "syswgetrc = C:\\Program Files (x86)\\GnuWin32/etc/wgetrc\n",
      "WARNING: cannot verify d37ci6vzurychx.cloudfront.net's certificate, issued by `/C=US/O=Amazon/CN=Amazon RSA 2048 M01':\n",
      "  Unable to locally verify the issuer's authority.\n",
      "SYSTEM_WGETRC = c:/progra~1/wget/etc/wgetrc\n",
      "syswgetrc = C:\\Program Files (x86)\\GnuWin32/etc/wgetrc\n",
      "WARNING: cannot verify d37ci6vzurychx.cloudfront.net's certificate, issued by `/C=US/O=Amazon/CN=Amazon RSA 2048 M01':\n",
      "  Unable to locally verify the issuer's authority.\n",
      "SYSTEM_WGETRC = c:/progra~1/wget/etc/wgetrc\n",
      "syswgetrc = C:\\Program Files (x86)\\GnuWin32/etc/wgetrc\n",
      "WARNING: cannot verify d37ci6vzurychx.cloudfront.net's certificate, issued by `/C=US/O=Amazon/CN=Amazon RSA 2048 M01':\n",
      "  Unable to locally verify the issuer's authority.\n"
     ]
    }
   ],
   "source": [
    "!wget -N -nv --no-check-certificate https://d37ci6vzurychx.cloudfront.net/trip-data/green_tripdata_2022-01.parquet\n",
    "!wget -N -nv --no-check-certificate https://d37ci6vzurychx.cloudfront.net/trip-data/green_tripdata_2022-02.parquet\n",
    "!wget -N -nv --no-check-certificate https://d37ci6vzurychx.cloudfront.net/trip-data/green_tripdata_2022-03.parquet"
   ]
  },
  {
   "cell_type": "code",
   "execution_count": 4,
   "id": "4c79ee18",
   "metadata": {},
   "outputs": [
    {
     "name": "stdout",
     "output_type": "stream",
     "text": [
      "\r",
      "  0% [                                                                                ]    0 / 2512\r",
      "100% [................................................................................] 2512 / 2512"
     ]
    },
    {
     "data": {
      "text/plain": [
       "'preprocess_data.py'"
      ]
     },
     "execution_count": 4,
     "metadata": {},
     "output_type": "execute_result"
    }
   ],
   "source": [
    "wget.download('https://raw.githubusercontent.com/DataTalksClub/mlops-zoomcamp/main/cohorts/2023/02-experiment-tracking/homework/preprocess_data.py')"
   ]
  },
  {
   "cell_type": "markdown",
   "id": "c1d71ded",
   "metadata": {},
   "source": [
    "Preprocess the data"
   ]
  },
  {
   "cell_type": "code",
   "execution_count": 5,
   "id": "be0f711b",
   "metadata": {},
   "outputs": [],
   "source": [
    "!python preprocess_data.py --raw_data_path ./ --dest_path ./output"
   ]
  },
  {
   "cell_type": "markdown",
   "id": "a197c56c",
   "metadata": {},
   "source": [
    "### Q2\n",
    "**What's the size of the saved DictVectorizer file?**"
   ]
  },
  {
   "cell_type": "code",
   "execution_count": 6,
   "id": "f1abd9d2",
   "metadata": {},
   "outputs": [
    {
     "name": "stdout",
     "output_type": "stream",
     "text": [
      " El volumen de la unidad K no tiene etiqueta.\n",
      " El n£mero de serie del volumen es: F270-041C\n",
      "\n",
      " Directorio de K:\\MLOPsZC2023\\cohorts\\02\\output\n",
      "\n",
      "30/05/2023  17:39    <DIR>          .\n",
      "30/05/2023  17:39    <DIR>          ..\n",
      "30/05/2023  17:40           153,660 dv.pkl\n",
      "30/05/2023  17:40         2,632,817 test.pkl\n",
      "30/05/2023  17:40         2,146,163 train.pkl\n",
      "30/05/2023  17:40         2,336,393 val.pkl\n",
      "               4 archivos      7,269,033 bytes\n",
      "               2 dirs  370,099,605,504 bytes libres\n"
     ]
    }
   ],
   "source": [
    "%ls output"
   ]
  },
  {
   "cell_type": "markdown",
   "id": "4a23a8d9",
   "metadata": {},
   "source": [
    "**Train a model with autolog**"
   ]
  },
  {
   "cell_type": "code",
   "execution_count": 7,
   "id": "622ef0b3",
   "metadata": {},
   "outputs": [
    {
     "name": "stdout",
     "output_type": "stream",
     "text": [
      "\r",
      "  0% [                                                                                  ]   0 / 790\r",
      "100% [..................................................................................] 790 / 790"
     ]
    },
    {
     "data": {
      "text/plain": [
       "'train.py'"
      ]
     },
     "execution_count": 7,
     "metadata": {},
     "output_type": "execute_result"
    }
   ],
   "source": [
    "wget.download('https://raw.githubusercontent.com/DataTalksClub/mlops-zoomcamp/main/cohorts/2023/02-experiment-tracking/homework/train.py')"
   ]
  },
  {
   "cell_type": "code",
   "execution_count": 8,
   "id": "255e4334",
   "metadata": {},
   "outputs": [
    {
     "name": "stderr",
     "output_type": "stream",
     "text": [
      "2023/05/30 17:40:51 INFO mlflow.tracking.fluent: Autologging successfully enabled for sklearn.\n",
      "2023/05/30 17:42:27 WARNING mlflow.utils.autologging_utils: MLflow autologging encountered a warning: \"J:\\anaconda3\\envs\\MLOPsZC2023\\lib\\site-packages\\_distutils_hack\\__init__.py:33: UserWarning: Setuptools is replacing distutils.\"\n"
     ]
    }
   ],
   "source": [
    "!python train.py"
   ]
  },
  {
   "cell_type": "markdown",
   "id": "b752ed87",
   "metadata": {},
   "source": [
    "### Q3\n",
    "**What is the value of the max_depth parameter?**"
   ]
  },
  {
   "cell_type": "code",
   "execution_count": 9,
   "id": "c07664ca",
   "metadata": {},
   "outputs": [
    {
     "data": {
      "text/plain": [
       "0    10\n",
       "Name: params.max_depth, dtype: object"
      ]
     },
     "execution_count": 9,
     "metadata": {},
     "output_type": "execute_result"
    }
   ],
   "source": [
    "mlflow.search_runs()['params.max_depth']"
   ]
  },
  {
   "cell_type": "markdown",
   "id": "2fcfcc81",
   "metadata": {},
   "source": [
    "**Launch the tracking server locally for MLflow**"
   ]
  },
  {
   "cell_type": "code",
   "execution_count": 10,
   "id": "f3311a40",
   "metadata": {},
   "outputs": [
    {
     "name": "stdout",
     "output_type": "stream",
     "text": [
      "\r",
      "  0% [                                                                                ]    0 / 1700\r",
      "100% [................................................................................] 1700 / 1700"
     ]
    },
    {
     "data": {
      "text/plain": [
       "'hpo.py'"
      ]
     },
     "execution_count": 10,
     "metadata": {},
     "output_type": "execute_result"
    }
   ],
   "source": [
    "wget.download('https://raw.githubusercontent.com/DataTalksClub/mlops-zoomcamp/main/cohorts/2023/02-experiment-tracking/homework/hpo.py')"
   ]
  },
  {
   "cell_type": "code",
   "execution_count": 11,
   "id": "ecfd813c",
   "metadata": {},
   "outputs": [
    {
     "name": "stderr",
     "output_type": "stream",
     "text": [
      "2023/05/30 17:42:59 INFO mlflow.store.db.utils: Creating initial MLflow database tables...\n",
      "2023/05/30 17:42:59 INFO mlflow.store.db.utils: Updating database tables\n",
      "INFO  [alembic.runtime.migration] Context impl SQLiteImpl.\n",
      "INFO  [alembic.runtime.migration] Will assume non-transactional DDL.\n",
      "INFO  [alembic.runtime.migration] Running upgrade  -> 451aebb31d03, add metric step\n",
      "INFO  [alembic.runtime.migration] Running upgrade 451aebb31d03 -> 90e64c465722, migrate user column to tags\n",
      "INFO  [alembic.runtime.migration] Running upgrade 90e64c465722 -> 181f10493468, allow nulls for metric values\n",
      "INFO  [alembic.runtime.migration] Running upgrade 181f10493468 -> df50e92ffc5e, Add Experiment Tags Table\n",
      "INFO  [alembic.runtime.migration] Running upgrade df50e92ffc5e -> 7ac759974ad8, Update run tags with larger limit\n",
      "INFO  [alembic.runtime.migration] Running upgrade 7ac759974ad8 -> 89d4b8295536, create latest metrics table\n",
      "INFO  [89d4b8295536_create_latest_metrics_table_py] Migration complete!\n",
      "INFO  [alembic.runtime.migration] Running upgrade 89d4b8295536 -> 2b4d017a5e9b, add model registry tables to db\n",
      "INFO  [2b4d017a5e9b_add_model_registry_tables_to_db_py] Adding registered_models and model_versions tables to database.\n",
      "INFO  [2b4d017a5e9b_add_model_registry_tables_to_db_py] Migration complete!\n",
      "INFO  [alembic.runtime.migration] Running upgrade 2b4d017a5e9b -> cfd24bdc0731, Update run status constraint with killed\n",
      "INFO  [alembic.runtime.migration] Running upgrade cfd24bdc0731 -> 0a8213491aaa, drop_duplicate_killed_constraint\n",
      "INFO  [alembic.runtime.migration] Running upgrade 0a8213491aaa -> 728d730b5ebd, add registered model tags table\n",
      "INFO  [alembic.runtime.migration] Running upgrade 728d730b5ebd -> 27a6a02d2cf1, add model version tags table\n",
      "INFO  [alembic.runtime.migration] Running upgrade 27a6a02d2cf1 -> 84291f40a231, add run_link to model_version\n",
      "INFO  [alembic.runtime.migration] Running upgrade 84291f40a231 -> a8c4a736bde6, allow nulls for run_id\n",
      "INFO  [alembic.runtime.migration] Running upgrade a8c4a736bde6 -> 39d1c3be5f05, add_is_nan_constraint_for_metrics_tables_if_necessary\n",
      "INFO  [alembic.runtime.migration] Running upgrade 39d1c3be5f05 -> c48cb773bb87, reset_default_value_for_is_nan_in_metrics_table_for_mysql\n",
      "INFO  [alembic.runtime.migration] Running upgrade c48cb773bb87 -> bd07f7e963c5, create index on run_uuid\n",
      "INFO  [alembic.runtime.migration] Running upgrade bd07f7e963c5 -> 0c779009ac13, add deleted_time field to runs table\n",
      "INFO  [alembic.runtime.migration] Running upgrade 0c779009ac13 -> cc1f77228345, change param value length to 500\n",
      "INFO  [alembic.runtime.migration] Running upgrade cc1f77228345 -> 97727af70f4d, Add creation_time and last_update_time to experiments table\n",
      "INFO  [alembic.runtime.migration] Running upgrade 97727af70f4d -> 3500859a5d39, Add Model Aliases table\n",
      "INFO  [alembic.runtime.migration] Context impl SQLiteImpl.\n",
      "INFO  [alembic.runtime.migration] Will assume non-transactional DDL.\n"
     ]
    },
    {
     "data": {
      "text/plain": [
       "'1'"
      ]
     },
     "execution_count": 11,
     "metadata": {},
     "output_type": "execute_result"
    }
   ],
   "source": [
    "mlflow.set_tracking_uri('sqlite:///cohort02.db')\n",
    "mlflow.create_experiment('random-forest-hyperopt', artifact_location='./artifacts/')"
   ]
  },
  {
   "cell_type": "markdown",
   "id": "25212c32",
   "metadata": {},
   "source": [
    "!mlflow ui --backend-store-uri sqlite:///cohort02.db"
   ]
  },
  {
   "cell_type": "markdown",
   "id": "f1a4faf1",
   "metadata": {},
   "source": [
    "**Tune model hyperparameters**"
   ]
  },
  {
   "cell_type": "code",
   "execution_count": 12,
   "id": "d21069f0",
   "metadata": {},
   "outputs": [
    {
     "name": "stderr",
     "output_type": "stream",
     "text": [
      "\u001b[32m[I 2023-05-30 17:44:07,031]\u001b[0m A new study created in memory with name: no-name-d68d03f2-7943-423f-9622-ca16763b0790\u001b[0m\n",
      "\u001b[32m[I 2023-05-30 17:44:13,320]\u001b[0m Trial 0 finished with value: 2.451379690825458 and parameters: {'n_estimators': 25, 'max_depth': 20, 'min_samples_split': 8, 'min_samples_leaf': 3}. Best is trial 0 with value: 2.451379690825458.\u001b[0m\n",
      "\u001b[32m[I 2023-05-30 17:44:14,270]\u001b[0m Trial 1 finished with value: 2.4667366020368333 and parameters: {'n_estimators': 16, 'max_depth': 4, 'min_samples_split': 2, 'min_samples_leaf': 4}. Best is trial 0 with value: 2.451379690825458.\u001b[0m\n",
      "\u001b[32m[I 2023-05-30 17:44:19,656]\u001b[0m Trial 2 finished with value: 2.449827329704216 and parameters: {'n_estimators': 34, 'max_depth': 15, 'min_samples_split': 2, 'min_samples_leaf': 4}. Best is trial 2 with value: 2.449827329704216.\u001b[0m\n",
      "\u001b[32m[I 2023-05-30 17:44:21,678]\u001b[0m Trial 3 finished with value: 2.460983516558473 and parameters: {'n_estimators': 44, 'max_depth': 5, 'min_samples_split': 3, 'min_samples_leaf': 1}. Best is trial 2 with value: 2.449827329704216.\u001b[0m\n",
      "\u001b[32m[I 2023-05-30 17:44:24,301]\u001b[0m Trial 4 finished with value: 2.453877262701052 and parameters: {'n_estimators': 22, 'max_depth': 11, 'min_samples_split': 5, 'min_samples_leaf': 2}. Best is trial 2 with value: 2.449827329704216.\u001b[0m\n",
      "\u001b[32m[I 2023-05-30 17:44:25,552]\u001b[0m Trial 5 finished with value: 2.4720122094960733 and parameters: {'n_estimators': 35, 'max_depth': 3, 'min_samples_split': 4, 'min_samples_leaf': 2}. Best is trial 2 with value: 2.449827329704216.\u001b[0m\n",
      "\u001b[32m[I 2023-05-30 17:44:30,270]\u001b[0m Trial 6 finished with value: 2.4516421799356767 and parameters: {'n_estimators': 28, 'max_depth': 16, 'min_samples_split': 3, 'min_samples_leaf': 3}. Best is trial 2 with value: 2.449827329704216.\u001b[0m\n",
      "\u001b[32m[I 2023-05-30 17:44:30,927]\u001b[0m Trial 7 finished with value: 2.5374040268274087 and parameters: {'n_estimators': 34, 'max_depth': 1, 'min_samples_split': 7, 'min_samples_leaf': 1}. Best is trial 2 with value: 2.449827329704216.\u001b[0m\n",
      "\u001b[32m[I 2023-05-30 17:44:33,560]\u001b[0m Trial 8 finished with value: 2.455971238567075 and parameters: {'n_estimators': 12, 'max_depth': 19, 'min_samples_split': 10, 'min_samples_leaf': 4}. Best is trial 2 with value: 2.449827329704216.\u001b[0m\n",
      "\u001b[32m[I 2023-05-30 17:44:34,285]\u001b[0m Trial 9 finished with value: 2.486106021576535 and parameters: {'n_estimators': 22, 'max_depth': 2, 'min_samples_split': 8, 'min_samples_leaf': 2}. Best is trial 2 with value: 2.449827329704216.\u001b[0m\n"
     ]
    }
   ],
   "source": [
    "!python hpo.py"
   ]
  },
  {
   "cell_type": "code",
   "execution_count": 13,
   "id": "d57ebb65",
   "metadata": {},
   "outputs": [],
   "source": [
    "ML_FLOW_TRACKING_URI = 'sqlite:///cohort02.db'\n",
    "client = MlflowClient(tracking_uri=ML_FLOW_TRACKING_URI)"
   ]
  },
  {
   "cell_type": "markdown",
   "id": "f00179f5",
   "metadata": {},
   "source": [
    "### Q5\n",
    "**What's the best validation RMSE that you got?**"
   ]
  },
  {
   "cell_type": "code",
   "execution_count": 14,
   "id": "907d4737",
   "metadata": {},
   "outputs": [],
   "source": [
    "runs = client.search_runs(\n",
    "    experiment_ids='1',\n",
    "    filter_string='',\n",
    "    run_view_type=ViewType.ACTIVE_ONLY,\n",
    "    max_results= 1,\n",
    "    order_by=['metrics.RMSE ASC']\n",
    ")[0]"
   ]
  },
  {
   "cell_type": "code",
   "execution_count": 15,
   "id": "68500e33",
   "metadata": {},
   "outputs": [
    {
     "name": "stdout",
     "output_type": "stream",
     "text": [
      "run id: 2d1544d87c654487bb722983ec1d7af9, rmse : 2.450\n"
     ]
    }
   ],
   "source": [
    "print(f\"run id: {runs.info.run_id}, rmse : {runs.data.metrics['RMSE']:.3f}\")"
   ]
  },
  {
   "cell_type": "markdown",
   "id": "41c9103c",
   "metadata": {},
   "source": [
    "**Promote the best model to the model registry**"
   ]
  },
  {
   "cell_type": "code",
   "execution_count": 16,
   "id": "f0ebc17e",
   "metadata": {},
   "outputs": [
    {
     "name": "stdout",
     "output_type": "stream",
     "text": [
      "\r",
      "  0% [                                                                                ]    0 / 2480\r",
      "100% [................................................................................] 2480 / 2480"
     ]
    },
    {
     "data": {
      "text/plain": [
       "'register_model.py'"
      ]
     },
     "execution_count": 16,
     "metadata": {},
     "output_type": "execute_result"
    }
   ],
   "source": [
    "wget.download('https://raw.githubusercontent.com/DataTalksClub/mlops-zoomcamp/main/cohorts/2023/02-experiment-tracking/homework/register_model.py')"
   ]
  },
  {
   "cell_type": "code",
   "execution_count": 17,
   "id": "219734ec",
   "metadata": {
    "scrolled": false
   },
   "outputs": [
    {
     "name": "stderr",
     "output_type": "stream",
     "text": [
      "2023/05/30 17:45:30 INFO mlflow.tracking.fluent: Experiment with name 'random-forest-best-models' does not exist. Creating a new experiment.\n",
      "2023/05/30 17:45:39 WARNING mlflow.utils.autologging_utils: MLflow autologging encountered a warning: \"J:\\anaconda3\\envs\\MLOPsZC2023\\lib\\site-packages\\_distutils_hack\\__init__.py:33: UserWarning: Setuptools is replacing distutils.\"\n",
      "Successfully registered model 'random-forest-best-models'.\n",
      "2023/05/30 17:46:13 INFO mlflow.tracking._model_registry.client: Waiting up to 300 seconds for model version to finish creation. Model name: random-forest-best-models, version 1\n",
      "Created version '1' of model 'random-forest-best-models'.\n"
     ]
    }
   ],
   "source": [
    "!python register_model.py"
   ]
  },
  {
   "cell_type": "markdown",
   "id": "8d3f7ba4",
   "metadata": {},
   "source": [
    "### Q5\n",
    "**What is the test RMSE of the best model?**"
   ]
  },
  {
   "cell_type": "code",
   "execution_count": 18,
   "id": "21116431",
   "metadata": {},
   "outputs": [
    {
     "name": "stdout",
     "output_type": "stream",
     "text": [
      "run id: 9e0b66aa10774781aa8e1c6747ce2774, val_rmse : 2.452, test_rmse : 2.292\n"
     ]
    }
   ],
   "source": [
    "EXPERIMENT_NAME = \"random-forest-best-models\"\n",
    "ML_FLOW_TRACKING_URI = 'sqlite:///cohort02.db'\n",
    "client = MlflowClient(tracking_uri=ML_FLOW_TRACKING_URI)\n",
    "experiment = client.get_experiment_by_name(EXPERIMENT_NAME)\n",
    "\n",
    "best_run = client.search_runs( \n",
    "        experiment_ids=experiment.experiment_id,\n",
    "        filter_string='',\n",
    "        run_view_type=ViewType.ACTIVE_ONLY,\n",
    "        max_results= 1,\n",
    "        order_by=['metrics.val_rmse ASC']\n",
    "    )[0]\n",
    "\n",
    "print(f\"run id: {best_run.info.run_id}, val_rmse : {best_run.data.metrics['val_rmse']:.3f}, test_rmse : {best_run.data.metrics['test_rmse']:.3f}\")"
   ]
  }
 ],
 "metadata": {
  "kernelspec": {
   "display_name": "Python 3 (ipykernel)",
   "language": "python",
   "name": "python3"
  },
  "language_info": {
   "codemirror_mode": {
    "name": "ipython",
    "version": 3
   },
   "file_extension": ".py",
   "mimetype": "text/x-python",
   "name": "python",
   "nbconvert_exporter": "python",
   "pygments_lexer": "ipython3",
   "version": "3.9.16"
  },
  "varInspector": {
   "cols": {
    "lenName": 16,
    "lenType": 16,
    "lenVar": 40
   },
   "kernels_config": {
    "python": {
     "delete_cmd_postfix": "",
     "delete_cmd_prefix": "del ",
     "library": "var_list.py",
     "varRefreshCmd": "print(var_dic_list())"
    },
    "r": {
     "delete_cmd_postfix": ") ",
     "delete_cmd_prefix": "rm(",
     "library": "var_list.r",
     "varRefreshCmd": "cat(var_dic_list()) "
    }
   },
   "types_to_exclude": [
    "module",
    "function",
    "builtin_function_or_method",
    "instance",
    "_Feature"
   ],
   "window_display": false
  }
 },
 "nbformat": 4,
 "nbformat_minor": 5
}
